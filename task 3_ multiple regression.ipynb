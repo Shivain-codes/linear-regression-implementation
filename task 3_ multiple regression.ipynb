{
 "cells": [
  {
   "cell_type": "code",
   "execution_count": 2,
   "id": "68eab0b7-db64-49ec-aff1-f5bb59cc0ee8",
   "metadata": {},
   "outputs": [
    {
     "name": "stdout",
     "output_type": "stream",
     "text": [
      "Available columns: Index(['price', 'area', 'bedrooms', 'bathrooms', 'stories', 'mainroad',\n",
      "       'guestroom', 'basement', 'hotwaterheating', 'airconditioning',\n",
      "       'parking', 'prefarea', 'furnishingstatus'],\n",
      "      dtype='object')\n",
      "MAE: 0.6246342771528571\n",
      "MSE: 0.6116935726773768\n",
      "R² Score: 0.22239125433555407\n",
      "Intercept: -0.2936665426432472\n",
      "Coefficients: [ 1.35286965e-07  6.28296527e-05  6.15895328e-02  3.46099163e-02\n",
      " -1.45402646e-01  1.91539509e-01 -1.65730839e-01 -6.68166480e-02\n",
      "  1.73766654e-01  1.12650434e-01 -6.66354440e-02 -7.17706485e-02\n",
      " -1.77070847e-01]\n"
     ]
    }
   ],
   "source": [
    "# 1. Import libraries\n",
    "import pandas as pd\n",
    "import numpy as np\n",
    "import matplotlib.pyplot as plt\n",
    "from sklearn.model_selection import train_test_split\n",
    "from sklearn.linear_model import LinearRegression\n",
    "from sklearn.metrics import mean_absolute_error, mean_squared_error, r2_score\n",
    "\n",
    "# 2. Load the dataset\n",
    "df = pd.read_csv('Housing.csv')  # Replace with your actual CSV file name\n",
    "df = df.dropna()  # Remove missing values\n",
    "\n",
    "# 3. Print available columns\n",
    "print(\"Available columns:\", df.columns)\n",
    "\n",
    "# 4. Encode categorical columns (like 'furnishingstatus', 'airconditioning', etc.)\n",
    "df = pd.get_dummies(df, drop_first=True)\n",
    "\n",
    "# 5. Set up Simple Linear Regression\n",
    "X_simple = df[['area']]  # Using 'area' to predict 'parking'\n",
    "y = df['parking']\n",
    "\n",
    "# 6. Multiple Linear Regression (all features except parking)\n",
    "X_multiple = df.drop(['parking'], axis=1)\n",
    "y_multiple = df['parking']\n",
    "\n",
    "# CHOOSE ONE of the following:\n",
    "# X, y = X_simple, y         # Simple Regression\n",
    "X, y = X_multiple, y_multiple  # Multiple Regression\n",
    "\n",
    "# 7. Train-test split\n",
    "X_train, X_test, y_train, y_test = train_test_split(X, y, test_size=0.2, random_state=42)\n",
    "\n",
    "# 8. Train the model\n",
    "model = LinearRegression()\n",
    "model.fit(X_train, y_train)\n",
    "\n",
    "# 9. Predict\n",
    "y_pred = model.predict(X_test)\n",
    "\n",
    "# 10. Evaluate\n",
    "print(\"MAE:\", mean_absolute_error(y_test, y_pred))\n",
    "print(\"MSE:\", mean_squared_error(y_test, y_pred))\n",
    "print(\"R² Score:\", r2_score(y_test, y_pred))\n",
    "\n",
    "# 11. Coefficients\n",
    "print(\"Intercept:\", model.intercept_)\n",
    "print(\"Coefficients:\", model.coef_)\n",
    "# no visuals due to multiple regression!!\n",
    "\n",
    "# 12. Visualize (only if 1 feature)\n",
    "if X.shape[1] == 1:\n",
    "    plt.scatter(X_test, y_test, color='blue', label='Actual')\n",
    "    plt.plot(X_test, y_pred, color='red', label='Predicted')\n",
    "    plt.xlabel(X.columns[0])\n",
    "    plt.ylabel('parking')\n",
    "    plt.title('Simple Linear Regression')\n",
    "    plt.legend()\n",
    "    plt.show()\n"
   ]
  },
  {
   "cell_type": "code",
   "execution_count": null,
   "id": "2111f61b-b6fe-44d0-a460-5807e83dd4d6",
   "metadata": {},
   "outputs": [],
   "source": []
  },
  {
   "cell_type": "code",
   "execution_count": null,
   "id": "f7f55b2a-a1f3-4deb-8b03-67e8f2d5f50b",
   "metadata": {},
   "outputs": [],
   "source": []
  }
 ],
 "metadata": {
  "kernelspec": {
   "display_name": "Python [conda env:base] *",
   "language": "python",
   "name": "conda-base-py"
  },
  "language_info": {
   "codemirror_mode": {
    "name": "ipython",
    "version": 3
   },
   "file_extension": ".py",
   "mimetype": "text/x-python",
   "name": "python",
   "nbconvert_exporter": "python",
   "pygments_lexer": "ipython3",
   "version": "3.12.7"
  }
 },
 "nbformat": 4,
 "nbformat_minor": 5
}
